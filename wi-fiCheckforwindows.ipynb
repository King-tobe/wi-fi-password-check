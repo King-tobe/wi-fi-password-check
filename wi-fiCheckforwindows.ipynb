{
 "cells": [
  {
   "cell_type": "code",
   "execution_count": null,
   "id": "7355b4b1-b6f3-4e25-ac2b-7090eeb3b713",
   "metadata": {},
   "outputs": [],
   "source": [
    "import subprocess \n",
    "\n",
    "data = subprocess.check_output(['netsh', 'wlan','show','profiles'])\n",
    "\n",
    "#converts byte data into string \n",
    "data = data.decode('utf-8').split('\\n')\n",
    "\n",
    "# extracts a list of Wi-Fi profile names\n",
    "profiles= [profile.split(\":\")[1][1:-1] for profile in data if \"All User Profile\" in profile]\n",
    "\n",
    "print(\"{: <20}| {:}\\n\".format('Wi-Fi Name', 'Passwords'))\n",
    "\n",
    "#iterate through the profiles list\n",
    "for profile in profiles:\n",
    "    # Gets information about the Wi-Fi profile.\n",
    "    data = subprocess.check_output(['netsh', 'Wlan', 'show', 'profile', profile, 'key=clear'])\n",
    "    data = data.decode('utf-8').split('\\n')\n",
    "\n",
    "    passwords = [passw.split(\":\")[1][1:-1] for passw in data if \"Key Content\" in passw]\n",
    "    \n",
    "    try:\n",
    "        print(\"{:<20}|  {:}\".format(profile, passwords[0]))\n",
    "    except IndexError:\n",
    "        print(\"{:<20}|  {:}\".format(profile, \"\"))"
   ]
  }
 ],
 "metadata": {
  "kernelspec": {
   "display_name": "Python 3 (ipykernel)",
   "language": "python",
   "name": "python3"
  },
  "language_info": {
   "codemirror_mode": {
    "name": "ipython",
    "version": 3
   },
   "file_extension": ".py",
   "mimetype": "text/x-python",
   "name": "python",
   "nbconvert_exporter": "python",
   "pygments_lexer": "ipython3",
   "version": "3.11.7"
  }
 },
 "nbformat": 4,
 "nbformat_minor": 5
}
